{
 "cells": [
  {
   "cell_type": "code",
   "execution_count": 29,
   "metadata": {},
   "outputs": [],
   "source": [
    "# import library\n",
    "import pandas as pd \n",
    "import numpy as np\n",
    "import scipy\n",
    "from scipy import stats\n",
    "import matplotlib.pyplot as plt\n",
    "import seaborn as sns"
   ]
  },
  {
   "cell_type": "markdown",
   "metadata": {},
   "source": [
    "### 1. Cosine similarity"
   ]
  },
  {
   "cell_type": "code",
   "execution_count": 2,
   "metadata": {},
   "outputs": [
    {
     "data": {
      "text/html": [
       "<div>\n",
       "<style scoped>\n",
       "    .dataframe tbody tr th:only-of-type {\n",
       "        vertical-align: middle;\n",
       "    }\n",
       "\n",
       "    .dataframe tbody tr th {\n",
       "        vertical-align: top;\n",
       "    }\n",
       "\n",
       "    .dataframe thead th {\n",
       "        text-align: right;\n",
       "    }\n",
       "</style>\n",
       "<table border=\"1\" class=\"dataframe\">\n",
       "  <thead>\n",
       "    <tr style=\"text-align: right;\">\n",
       "      <th></th>\n",
       "      <th>Word1</th>\n",
       "      <th>Word2</th>\n",
       "      <th>POS</th>\n",
       "      <th>Sim1</th>\n",
       "      <th>Sim2</th>\n",
       "      <th>STD</th>\n",
       "    </tr>\n",
       "  </thead>\n",
       "  <tbody>\n",
       "    <tr>\n",
       "      <th>0</th>\n",
       "      <td>biến</td>\n",
       "      <td>ngập</td>\n",
       "      <td>V</td>\n",
       "      <td>3.13</td>\n",
       "      <td>5.22</td>\n",
       "      <td>0.72</td>\n",
       "    </tr>\n",
       "    <tr>\n",
       "      <th>1</th>\n",
       "      <td>nhà_thi_đấu</td>\n",
       "      <td>nhà</td>\n",
       "      <td>N</td>\n",
       "      <td>3.07</td>\n",
       "      <td>5.12</td>\n",
       "      <td>1.18</td>\n",
       "    </tr>\n",
       "    <tr>\n",
       "      <th>2</th>\n",
       "      <td>động</td>\n",
       "      <td>tĩnh</td>\n",
       "      <td>V</td>\n",
       "      <td>0.60</td>\n",
       "      <td>1.00</td>\n",
       "      <td>0.95</td>\n",
       "    </tr>\n",
       "    <tr>\n",
       "      <th>3</th>\n",
       "      <td>khuyết</td>\n",
       "      <td>ưu</td>\n",
       "      <td>N</td>\n",
       "      <td>0.20</td>\n",
       "      <td>0.33</td>\n",
       "      <td>0.40</td>\n",
       "    </tr>\n",
       "    <tr>\n",
       "      <th>4</th>\n",
       "      <td>cõi_tục</td>\n",
       "      <td>cõi_âm</td>\n",
       "      <td>N</td>\n",
       "      <td>0.60</td>\n",
       "      <td>1.00</td>\n",
       "      <td>0.95</td>\n",
       "    </tr>\n",
       "  </tbody>\n",
       "</table>\n",
       "</div>"
      ],
      "text/plain": [
       "         Word1   Word2 POS  Sim1  Sim2   STD\n",
       "0         biến    ngập   V  3.13  5.22  0.72\n",
       "1  nhà_thi_đấu     nhà   N  3.07  5.12  1.18\n",
       "2         động    tĩnh   V  0.60  1.00  0.95\n",
       "3       khuyết      ưu   N  0.20  0.33  0.40\n",
       "4      cõi_tục  cõi_âm   N  0.60  1.00  0.95"
      ]
     },
     "execution_count": 2,
     "metadata": {},
     "output_type": "execute_result"
    }
   ],
   "source": [
    "# load an preview data\n",
    "Visim400 = pd.read_csv('datasets/ViSim-400/Visim-400.txt', sep='\\t')\n",
    "Visim400.head()"
   ]
  },
  {
   "cell_type": "code",
   "execution_count": 3,
   "metadata": {},
   "outputs": [
    {
     "data": {
      "text/plain": [
       "77023"
      ]
     },
     "execution_count": 3,
     "metadata": {},
     "output_type": "execute_result"
    }
   ],
   "source": [
    "# load pre-train model\n",
    "with open(\"W2V_150.txt\") as file:\n",
    "    data = file.readlines()\n",
    "len(data)"
   ]
  },
  {
   "cell_type": "code",
   "execution_count": 4,
   "metadata": {},
   "outputs": [],
   "source": [
    "# remove \\n at the end\n",
    "for i in range(len(data)):\n",
    "    data[i] = data[i][:-1]"
   ]
  },
  {
   "cell_type": "code",
   "execution_count": 5,
   "metadata": {},
   "outputs": [],
   "source": [
    "# convert data from string to float64\n",
    "data_dict = dict()\n",
    "for i in range(len(data)):\n",
    "    split_data = data[i].split()\n",
    "    data_dict[split_data[0]] = np.array(split_data[1:]).astype('float64')"
   ]
  },
  {
   "cell_type": "code",
   "execution_count": 6,
   "metadata": {},
   "outputs": [],
   "source": [
    "# function for calculating cosine similarity\n",
    "def cosine_similarity(a, b):\n",
    "    nominator = np.dot(a, b)\n",
    "    \n",
    "    a_norm = np.sqrt(np.sum(a**2))\n",
    "    b_norm = np.sqrt(np.sum(b**2))\n",
    "    \n",
    "    denominator = a_norm * b_norm\n",
    "    \n",
    "    cosine_similarity = nominator / denominator\n",
    "    \n",
    "    return cosine_similarity"
   ]
  },
  {
   "cell_type": "code",
   "execution_count": 7,
   "metadata": {},
   "outputs": [],
   "source": [
    "# function for selecting trained words\n",
    "def selectTrainedWords(inData):\n",
    "    select = []\n",
    "    for i in np.arange(len(inData)):\n",
    "        if inData.loc[i,'Word1'] in data_dict.keys() and inData.loc[i,'Word2'] in data_dict.keys():\n",
    "            select.extend([True])\n",
    "        else:\n",
    "            select.extend([False])\n",
    "    outData = inData[select].copy()\n",
    "    outData.index = np.arange(len(outData))\n",
    "    return outData"
   ]
  },
  {
   "cell_type": "code",
   "execution_count": 8,
   "metadata": {},
   "outputs": [
    {
     "name": "stdout",
     "output_type": "stream",
     "text": [
      "Kích thước của Visim400 trước khi lọc:  (400, 6)\n",
      "Kích thước của Visim400 sau khi lọc:  (344, 6)\n"
     ]
    }
   ],
   "source": [
    "# select trained words for Visim400\n",
    "print(\"Kích thước của Visim400 trước khi lọc: \", Visim400.shape)\n",
    "subVisim400 = selectTrainedWords(Visim400)\n",
    "print(\"Kích thước của Visim400 sau khi lọc: \", subVisim400.shape)"
   ]
  },
  {
   "cell_type": "code",
   "execution_count": 9,
   "metadata": {},
   "outputs": [
    {
     "data": {
      "text/html": [
       "<div>\n",
       "<style scoped>\n",
       "    .dataframe tbody tr th:only-of-type {\n",
       "        vertical-align: middle;\n",
       "    }\n",
       "\n",
       "    .dataframe tbody tr th {\n",
       "        vertical-align: top;\n",
       "    }\n",
       "\n",
       "    .dataframe thead th {\n",
       "        text-align: right;\n",
       "    }\n",
       "</style>\n",
       "<table border=\"1\" class=\"dataframe\">\n",
       "  <thead>\n",
       "    <tr style=\"text-align: right;\">\n",
       "      <th></th>\n",
       "      <th>Word1</th>\n",
       "      <th>Word2</th>\n",
       "      <th>POS</th>\n",
       "      <th>Sim1</th>\n",
       "      <th>Sim2</th>\n",
       "      <th>STD</th>\n",
       "      <th>CosSim</th>\n",
       "    </tr>\n",
       "  </thead>\n",
       "  <tbody>\n",
       "    <tr>\n",
       "      <th>0</th>\n",
       "      <td>biến</td>\n",
       "      <td>ngập</td>\n",
       "      <td>V</td>\n",
       "      <td>3.13</td>\n",
       "      <td>5.22</td>\n",
       "      <td>0.72</td>\n",
       "      <td>-0.004912</td>\n",
       "    </tr>\n",
       "    <tr>\n",
       "      <th>1</th>\n",
       "      <td>nhà_thi_đấu</td>\n",
       "      <td>nhà</td>\n",
       "      <td>N</td>\n",
       "      <td>3.07</td>\n",
       "      <td>5.12</td>\n",
       "      <td>1.18</td>\n",
       "      <td>0.082523</td>\n",
       "    </tr>\n",
       "    <tr>\n",
       "      <th>2</th>\n",
       "      <td>động</td>\n",
       "      <td>tĩnh</td>\n",
       "      <td>V</td>\n",
       "      <td>0.60</td>\n",
       "      <td>1.00</td>\n",
       "      <td>0.95</td>\n",
       "      <td>0.277086</td>\n",
       "    </tr>\n",
       "    <tr>\n",
       "      <th>3</th>\n",
       "      <td>khuyết</td>\n",
       "      <td>ưu</td>\n",
       "      <td>N</td>\n",
       "      <td>0.20</td>\n",
       "      <td>0.33</td>\n",
       "      <td>0.40</td>\n",
       "      <td>0.176799</td>\n",
       "    </tr>\n",
       "    <tr>\n",
       "      <th>4</th>\n",
       "      <td>thủ_pháp</td>\n",
       "      <td>biện_pháp</td>\n",
       "      <td>N</td>\n",
       "      <td>4.13</td>\n",
       "      <td>6.88</td>\n",
       "      <td>1.26</td>\n",
       "      <td>0.402366</td>\n",
       "    </tr>\n",
       "  </tbody>\n",
       "</table>\n",
       "</div>"
      ],
      "text/plain": [
       "         Word1      Word2 POS  Sim1  Sim2   STD    CosSim\n",
       "0         biến       ngập   V  3.13  5.22  0.72 -0.004912\n",
       "1  nhà_thi_đấu        nhà   N  3.07  5.12  1.18  0.082523\n",
       "2         động       tĩnh   V  0.60  1.00  0.95  0.277086\n",
       "3       khuyết         ưu   N  0.20  0.33  0.40  0.176799\n",
       "4     thủ_pháp  biện_pháp   N  4.13  6.88  1.26  0.402366"
      ]
     },
     "execution_count": 9,
     "metadata": {},
     "output_type": "execute_result"
    }
   ],
   "source": [
    "# caculate cosine similarity for each pairs\n",
    "cos_sim = []\n",
    "for i in range(len(subVisim400)):\n",
    "    cos_sim.extend([cosine_similarity(data_dict[subVisim400.loc[i,'Word1']],\n",
    "                      data_dict[subVisim400.loc[i,'Word2']])])\n",
    "subVisim400['CosSim'] = cos_sim\n",
    "subVisim400.head()"
   ]
  },
  {
   "cell_type": "code",
   "execution_count": 10,
   "metadata": {},
   "outputs": [
    {
     "name": "stdout",
     "output_type": "stream",
     "text": [
      " Pearson correlation coefficient:  (0.4468477986391989, 2.7432767587469776e-18)\n",
      " Spearman's rank correlation coefficient:  SpearmanrResult(correlation=0.4077568887734169, pvalue=3.2645624595200806e-15)\n"
     ]
    }
   ],
   "source": [
    "# Calculate correlation of CosSim and Sim1 columns\n",
    "print(\" Pearson correlation coefficient: \", stats.pearsonr(subVisim400['CosSim'],subVisim400['Sim1']))\n",
    "print(\" Spearman's rank correlation coefficient: \", stats.spearmanr(subVisim400['CosSim'],subVisim400['Sim1']))"
   ]
  },
  {
   "cell_type": "code",
   "execution_count": 11,
   "metadata": {},
   "outputs": [
    {
     "name": "stdout",
     "output_type": "stream",
     "text": [
      " Pearson correlation coefficient:  (0.44681975508807675, 2.7581737626379143e-18)\n",
      " Spearman's rank correlation coefficient:  SpearmanrResult(correlation=0.4077568887734169, pvalue=3.2645624595200806e-15)\n"
     ]
    }
   ],
   "source": [
    "# Calculate correlation of CosSim and Sim2 columns\n",
    "print(\" Pearson correlation coefficient: \", stats.pearsonr(subVisim400['CosSim'],subVisim400['Sim2']))\n",
    "print(\" Spearman's rank correlation coefficient: \", stats.spearmanr(subVisim400['CosSim'],subVisim400['Sim2']))"
   ]
  },
  {
   "cell_type": "markdown",
   "metadata": {},
   "source": [
    "### 2. K-nearest words"
   ]
  },
  {
   "cell_type": "code",
   "execution_count": 12,
   "metadata": {},
   "outputs": [
    {
     "name": "stdout",
     "output_type": "stream",
     "text": [
      "2 từ gần nghĩa với khuyết là :\n",
      "cháy_đen\n",
      "cắt_xén\n"
     ]
    }
   ],
   "source": [
    "cos_sim = []\n",
    "word = 'khuyết' # change here\n",
    "k = 2 # change here\n",
    "for i, w in enumerate(list(data_dict.keys())[2:]): ## bỏ giá trị ['77021', '150']\n",
    "    cos_sim.append([w, cosine_similarity(data_dict[word],\n",
    "                          data_dict[w])])\n",
    "cos_sim = pd.DataFrame(cos_sim, columns = ['words', 'CosSim'])\n",
    "cos_sim = cos_sim.sort_values(by='CosSim', ascending = False)\n",
    "\n",
    "print(f'{k} từ gần nghĩa với {word} là :')\n",
    "for i in range(k):\n",
    "    print(cos_sim['words'].values[1+i])"
   ]
  },
  {
   "cell_type": "markdown",
   "metadata": {},
   "source": [
    "### 3. Synonym-antonym classification"
   ]
  },
  {
   "cell_type": "code",
   "execution_count": 13,
   "metadata": {},
   "outputs": [
    {
     "data": {
      "text/html": [
       "<div>\n",
       "<style scoped>\n",
       "    .dataframe tbody tr th:only-of-type {\n",
       "        vertical-align: middle;\n",
       "    }\n",
       "\n",
       "    .dataframe tbody tr th {\n",
       "        vertical-align: top;\n",
       "    }\n",
       "\n",
       "    .dataframe thead th {\n",
       "        text-align: right;\n",
       "    }\n",
       "</style>\n",
       "<table border=\"1\" class=\"dataframe\">\n",
       "  <thead>\n",
       "    <tr style=\"text-align: right;\">\n",
       "      <th></th>\n",
       "      <th>Word1</th>\n",
       "      <th>Word2</th>\n",
       "    </tr>\n",
       "  </thead>\n",
       "  <tbody>\n",
       "    <tr>\n",
       "      <th>0</th>\n",
       "      <td>a_dua</td>\n",
       "      <td>a_tòng</td>\n",
       "    </tr>\n",
       "    <tr>\n",
       "      <th>1</th>\n",
       "      <td>a_dua</td>\n",
       "      <td>vào_hùa</td>\n",
       "    </tr>\n",
       "    <tr>\n",
       "      <th>2</th>\n",
       "      <td>a_ma_tơ</td>\n",
       "      <td>tài_tử</td>\n",
       "    </tr>\n",
       "    <tr>\n",
       "      <th>3</th>\n",
       "      <td>a_tòng</td>\n",
       "      <td>vào_hùa</td>\n",
       "    </tr>\n",
       "    <tr>\n",
       "      <th>4</th>\n",
       "      <td>à_ơi</td>\n",
       "      <td>ạ_ơi</td>\n",
       "    </tr>\n",
       "  </tbody>\n",
       "</table>\n",
       "</div>"
      ],
      "text/plain": [
       "     Word1    Word2\n",
       "0    a_dua   a_tòng\n",
       "1    a_dua  vào_hùa\n",
       "2  a_ma_tơ   tài_tử\n",
       "3   a_tòng  vào_hùa\n",
       "4     à_ơi     ạ_ơi"
      ]
     },
     "execution_count": 13,
     "metadata": {},
     "output_type": "execute_result"
    }
   ],
   "source": [
    "# read synonym data\n",
    "synonym = pd.read_csv('antonym-synonym set/Synonym_vietnamese.txt', sep=' ', header = None)\n",
    "synonym.columns = ['Word1','Word2']\n",
    "synonym.head()"
   ]
  },
  {
   "cell_type": "code",
   "execution_count": 14,
   "metadata": {},
   "outputs": [
    {
     "name": "stdout",
     "output_type": "stream",
     "text": [
      "Kích thước của synonym trước khi lọc:  (11562, 2)\n",
      "Kích thước của synonym sau khi lọc:  (6273, 2)\n"
     ]
    }
   ],
   "source": [
    "# select not-null rows\n",
    "print(\"Kích thước của synonym trước khi lọc: \", synonym.shape)\n",
    "synonym = selectTrainedWords(synonym)\n",
    "print(\"Kích thước của synonym sau khi lọc: \", synonym.shape)"
   ]
  },
  {
   "cell_type": "code",
   "execution_count": 15,
   "metadata": {},
   "outputs": [
    {
     "data": {
      "text/html": [
       "<div>\n",
       "<style scoped>\n",
       "    .dataframe tbody tr th:only-of-type {\n",
       "        vertical-align: middle;\n",
       "    }\n",
       "\n",
       "    .dataframe tbody tr th {\n",
       "        vertical-align: top;\n",
       "    }\n",
       "\n",
       "    .dataframe thead th {\n",
       "        text-align: right;\n",
       "    }\n",
       "</style>\n",
       "<table border=\"1\" class=\"dataframe\">\n",
       "  <thead>\n",
       "    <tr style=\"text-align: right;\">\n",
       "      <th></th>\n",
       "      <th>Word1</th>\n",
       "      <th>Word2</th>\n",
       "    </tr>\n",
       "  </thead>\n",
       "  <tbody>\n",
       "    <tr>\n",
       "      <th>0</th>\n",
       "      <td>ác</td>\n",
       "      <td>hiền</td>\n",
       "    </tr>\n",
       "    <tr>\n",
       "      <th>1</th>\n",
       "      <td>ác</td>\n",
       "      <td>thiện</td>\n",
       "    </tr>\n",
       "    <tr>\n",
       "      <th>2</th>\n",
       "      <td>ác_cảm</td>\n",
       "      <td>thiện_cảm</td>\n",
       "    </tr>\n",
       "    <tr>\n",
       "      <th>3</th>\n",
       "      <td>ác_độc</td>\n",
       "      <td>hiền_lành</td>\n",
       "    </tr>\n",
       "    <tr>\n",
       "      <th>4</th>\n",
       "      <td>ác_độc</td>\n",
       "      <td>hiền_từ</td>\n",
       "    </tr>\n",
       "  </tbody>\n",
       "</table>\n",
       "</div>"
      ],
      "text/plain": [
       "    Word1      Word2\n",
       "0      ác       hiền\n",
       "1      ác      thiện\n",
       "2  ác_cảm  thiện_cảm\n",
       "3  ác_độc  hiền_lành\n",
       "4  ác_độc    hiền_từ"
      ]
     },
     "execution_count": 15,
     "metadata": {},
     "output_type": "execute_result"
    }
   ],
   "source": [
    "# read antonym data\n",
    "antonym = pd.read_csv('antonym-synonym set/Antonym_vietnamese.txt', sep=' ', header = None)\n",
    "antonym.columns = ['Word1','Word2']\n",
    "antonym.head()"
   ]
  },
  {
   "cell_type": "code",
   "execution_count": 16,
   "metadata": {},
   "outputs": [
    {
     "name": "stdout",
     "output_type": "stream",
     "text": [
      "Kích thước của synonym trước khi lọc:  (2000, 2)\n",
      "Kích thước của synonym sau khi lọc:  (1731, 2)\n"
     ]
    }
   ],
   "source": [
    "# select not-null rows\n",
    "print(\"Kích thước của synonym trước khi lọc: \", antonym.shape)\n",
    "antonym = selectTrainedWords(antonym)\n",
    "print(\"Kích thước của synonym sau khi lọc: \", antonym.shape)"
   ]
  },
  {
   "cell_type": "code",
   "execution_count": 17,
   "metadata": {},
   "outputs": [],
   "source": [
    "# calculate cosine similarity for each pairs\n",
    "# for synonym\n",
    "cos_sim = []\n",
    "for i in range(len(synonym)):\n",
    "    cos_sim.extend([cosine_similarity(data_dict[synonym.loc[i, 'Word1']],\n",
    "                    data_dict[synonym.loc[i, 'Word2']])])\n",
    "synonym['CosSim'] = cos_sim\n",
    "synonym['Label'] = 1\n",
    "\n",
    "# for antonym\n",
    "cos_sim = []\n",
    "for i in range(len(antonym)):\n",
    "    cos_sim.extend([cosine_similarity(data_dict[antonym.loc[i, 'Word1']],\n",
    "                    data_dict[antonym.loc[i, 'Word2']])])\n",
    "antonym['CosSim'] = cos_sim\n",
    "antonym['Label'] = 0\n",
    "\n",
    "# merge two datasets\n",
    "synonym_antonym = pd.concat([synonym, antonym], axis = 0)\n",
    "synonym_antonym.index = range(len(synonym_antonym))"
   ]
  },
  {
   "cell_type": "code",
   "execution_count": 18,
   "metadata": {},
   "outputs": [],
   "source": [
    "# split X and y into training and testing sets\n",
    "from sklearn.model_selection import train_test_split\n",
    "# import the class\n",
    "from sklearn.linear_model import LogisticRegression\n",
    "# import the metrics class\n",
    "from sklearn import metrics"
   ]
  },
  {
   "cell_type": "code",
   "execution_count": 28,
   "metadata": {},
   "outputs": [],
   "source": [
    "X_train,X_test,y_train,y_test=train_test_split(synonym_antonym['CosSim'].values,\n",
    "                                               synonym_antonym['Label'].values,\n",
    "                                               test_size=0.20,\n",
    "                                               random_state=42)\n",
    "# Reshape data either using \n",
    "# array.reshape(-1, 1) if your data has a single feature\n",
    "X_train = X_train.reshape(-1, 1)\n",
    "X_test = X_test.reshape(-1, 1)\n",
    "\n",
    "# instantiate the model (using the default parameters)\n",
    "logreg = LogisticRegression(penalty='l2')\n",
    "\n",
    "# fit the model with data\n",
    "\n",
    "logreg.fit(X_train,y_train)\n",
    "\n",
    "# predict the new data\n",
    "y_pred=logreg.predict(X_test)"
   ]
  },
  {
   "cell_type": "code",
   "execution_count": 20,
   "metadata": {},
   "outputs": [
    {
     "data": {
      "text/plain": [
       "array([[   0,  341],\n",
       "       [   1, 1259]])"
      ]
     },
     "execution_count": 20,
     "metadata": {},
     "output_type": "execute_result"
    }
   ],
   "source": [
    "cnf_matrix = metrics.confusion_matrix(y_test, y_pred)\n",
    "cnf_matrix"
   ]
  },
  {
   "cell_type": "code",
   "execution_count": 37,
   "metadata": {},
   "outputs": [
    {
     "data": {
      "text/plain": [
       "<AxesSubplot:>"
      ]
     },
     "execution_count": 37,
     "metadata": {},
     "output_type": "execute_result"
    },
    {
     "data": {
      "image/png": "[encoded data removed]",
      "text/plain": [
       "<Figure size 432x288 with 2 Axes>"
      ]
     },
     "metadata": {
      "needs_background": "light"
     },
     "output_type": "display_data"
    }
   ],
   "source": [
    "sns.heatmap(cnf_matrix, annot=True, fmt=\"d\", cmap=\"YlGnBu\")"
   ]
  },
  {
   "cell_type": "code",
   "execution_count": 27,
   "metadata": {},
   "outputs": [
    {
     "name": "stdout",
     "output_type": "stream",
     "text": [
      "Accuracy: 0.7864\n",
      "Precision: 0.7869\n",
      "Recall: 0.9992\n",
      "F1-score: 0.8804\n"
     ]
    }
   ],
   "source": [
    "print(\"Accuracy:\", round(metrics.accuracy_score(y_test, y_pred),4))\n",
    "print(\"Precision:\", round(metrics.precision_score(y_test, y_pred),4))\n",
    "print(\"Recall:\", round(metrics.recall_score(y_test, y_pred),4))\n",
    "print(\"F1-score:\", round(metrics.f1_score(y_test, y_pred),4))"
   ]
  },
  {
   "cell_type": "code",
   "execution_count": null,
   "metadata": {},
   "outputs": [],
   "source": []
  }
 ],
 "metadata": {
  "kernelspec": {
   "display_name": "Python 3",
   "language": "python",
   "name": "python3"
  },
  "language_info": {
   "codemirror_mode": {
    "name": "ipython",
    "version": 3
   },
   "file_extension": ".py",
   "mimetype": "text/x-python",
   "name": "python",
   "nbconvert_exporter": "python",
   "pygments_lexer": "ipython3",
   "version": "3.8.5"
  }
 },
 "nbformat": 4,
 "nbformat_minor": 4
}
